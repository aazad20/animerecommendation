{
 "cells": [
  {
   "cell_type": "code",
   "execution_count": 2,
   "metadata": {},
   "outputs": [],
   "source": [
    "import numpy as np\n",
    "import pandas as pd\n"
   ]
  },
  {
   "cell_type": "code",
   "execution_count": 3,
   "metadata": {},
   "outputs": [],
   "source": [
    "rating = pd.read_csv(\"animelist.csv\")"
   ]
  },
  {
   "cell_type": "code",
   "execution_count": 4,
   "metadata": {},
   "outputs": [
    {
     "data": {
      "text/html": [
       "<div>\n",
       "<style scoped>\n",
       "    .dataframe tbody tr th:only-of-type {\n",
       "        vertical-align: middle;\n",
       "    }\n",
       "\n",
       "    .dataframe tbody tr th {\n",
       "        vertical-align: top;\n",
       "    }\n",
       "\n",
       "    .dataframe thead th {\n",
       "        text-align: right;\n",
       "    }\n",
       "</style>\n",
       "<table border=\"1\" class=\"dataframe\">\n",
       "  <thead>\n",
       "    <tr style=\"text-align: right;\">\n",
       "      <th></th>\n",
       "      <th>user_id</th>\n",
       "      <th>anime_id</th>\n",
       "      <th>rating</th>\n",
       "      <th>watching_status</th>\n",
       "      <th>watched_episodes</th>\n",
       "    </tr>\n",
       "  </thead>\n",
       "  <tbody>\n",
       "    <tr>\n",
       "      <th>0</th>\n",
       "      <td>0</td>\n",
       "      <td>67</td>\n",
       "      <td>9</td>\n",
       "      <td>1</td>\n",
       "      <td>1</td>\n",
       "    </tr>\n",
       "    <tr>\n",
       "      <th>1</th>\n",
       "      <td>0</td>\n",
       "      <td>6702</td>\n",
       "      <td>7</td>\n",
       "      <td>1</td>\n",
       "      <td>4</td>\n",
       "    </tr>\n",
       "    <tr>\n",
       "      <th>2</th>\n",
       "      <td>0</td>\n",
       "      <td>242</td>\n",
       "      <td>10</td>\n",
       "      <td>1</td>\n",
       "      <td>4</td>\n",
       "    </tr>\n",
       "    <tr>\n",
       "      <th>3</th>\n",
       "      <td>0</td>\n",
       "      <td>4898</td>\n",
       "      <td>0</td>\n",
       "      <td>1</td>\n",
       "      <td>1</td>\n",
       "    </tr>\n",
       "    <tr>\n",
       "      <th>4</th>\n",
       "      <td>0</td>\n",
       "      <td>21</td>\n",
       "      <td>10</td>\n",
       "      <td>1</td>\n",
       "      <td>0</td>\n",
       "    </tr>\n",
       "    <tr>\n",
       "      <th>...</th>\n",
       "      <td>...</td>\n",
       "      <td>...</td>\n",
       "      <td>...</td>\n",
       "      <td>...</td>\n",
       "      <td>...</td>\n",
       "    </tr>\n",
       "    <tr>\n",
       "      <th>109224742</th>\n",
       "      <td>353404</td>\n",
       "      <td>507</td>\n",
       "      <td>7</td>\n",
       "      <td>2</td>\n",
       "      <td>2</td>\n",
       "    </tr>\n",
       "    <tr>\n",
       "      <th>109224743</th>\n",
       "      <td>353404</td>\n",
       "      <td>392</td>\n",
       "      <td>9</td>\n",
       "      <td>2</td>\n",
       "      <td>112</td>\n",
       "    </tr>\n",
       "    <tr>\n",
       "      <th>109224744</th>\n",
       "      <td>353404</td>\n",
       "      <td>882</td>\n",
       "      <td>6</td>\n",
       "      <td>2</td>\n",
       "      <td>1</td>\n",
       "    </tr>\n",
       "    <tr>\n",
       "      <th>109224745</th>\n",
       "      <td>353404</td>\n",
       "      <td>883</td>\n",
       "      <td>8</td>\n",
       "      <td>2</td>\n",
       "      <td>1</td>\n",
       "    </tr>\n",
       "    <tr>\n",
       "      <th>109224746</th>\n",
       "      <td>353404</td>\n",
       "      <td>149</td>\n",
       "      <td>0</td>\n",
       "      <td>6</td>\n",
       "      <td>0</td>\n",
       "    </tr>\n",
       "  </tbody>\n",
       "</table>\n",
       "<p>109224747 rows × 5 columns</p>\n",
       "</div>"
      ],
      "text/plain": [
       "           user_id  anime_id  rating  watching_status  watched_episodes\n",
       "0                0        67       9                1                 1\n",
       "1                0      6702       7                1                 4\n",
       "2                0       242      10                1                 4\n",
       "3                0      4898       0                1                 1\n",
       "4                0        21      10                1                 0\n",
       "...            ...       ...     ...              ...               ...\n",
       "109224742   353404       507       7                2                 2\n",
       "109224743   353404       392       9                2               112\n",
       "109224744   353404       882       6                2                 1\n",
       "109224745   353404       883       8                2                 1\n",
       "109224746   353404       149       0                6                 0\n",
       "\n",
       "[109224747 rows x 5 columns]"
      ]
     },
     "execution_count": 4,
     "metadata": {},
     "output_type": "execute_result"
    }
   ],
   "source": [
    "rating"
   ]
  },
  {
   "cell_type": "code",
   "execution_count": 5,
   "metadata": {},
   "outputs": [
    {
     "data": {
      "text/html": [
       "<div>\n",
       "<style scoped>\n",
       "    .dataframe tbody tr th:only-of-type {\n",
       "        vertical-align: middle;\n",
       "    }\n",
       "\n",
       "    .dataframe tbody tr th {\n",
       "        vertical-align: top;\n",
       "    }\n",
       "\n",
       "    .dataframe thead th {\n",
       "        text-align: right;\n",
       "    }\n",
       "</style>\n",
       "<table border=\"1\" class=\"dataframe\">\n",
       "  <thead>\n",
       "    <tr style=\"text-align: right;\">\n",
       "      <th></th>\n",
       "      <th>user_id</th>\n",
       "      <th>anime_id</th>\n",
       "      <th>rating</th>\n",
       "      <th>watching_status</th>\n",
       "      <th>watched_episodes</th>\n",
       "    </tr>\n",
       "  </thead>\n",
       "  <tbody>\n",
       "    <tr>\n",
       "      <th>count</th>\n",
       "      <td>1.092247e+08</td>\n",
       "      <td>1.092247e+08</td>\n",
       "      <td>1.092247e+08</td>\n",
       "      <td>1.092247e+08</td>\n",
       "      <td>1.092247e+08</td>\n",
       "    </tr>\n",
       "    <tr>\n",
       "      <th>mean</th>\n",
       "      <td>1.768098e+05</td>\n",
       "      <td>1.649590e+04</td>\n",
       "      <td>4.245717e+00</td>\n",
       "      <td>3.087289e+00</td>\n",
       "      <td>1.210818e+01</td>\n",
       "    </tr>\n",
       "    <tr>\n",
       "      <th>std</th>\n",
       "      <td>1.018487e+05</td>\n",
       "      <td>1.379737e+04</td>\n",
       "      <td>3.912888e+00</td>\n",
       "      <td>1.774407e+00</td>\n",
       "      <td>1.463155e+02</td>\n",
       "    </tr>\n",
       "    <tr>\n",
       "      <th>min</th>\n",
       "      <td>0.000000e+00</td>\n",
       "      <td>1.000000e+00</td>\n",
       "      <td>0.000000e+00</td>\n",
       "      <td>0.000000e+00</td>\n",
       "      <td>0.000000e+00</td>\n",
       "    </tr>\n",
       "    <tr>\n",
       "      <th>25%</th>\n",
       "      <td>8.849100e+04</td>\n",
       "      <td>3.194000e+03</td>\n",
       "      <td>0.000000e+00</td>\n",
       "      <td>2.000000e+00</td>\n",
       "      <td>0.000000e+00</td>\n",
       "    </tr>\n",
       "    <tr>\n",
       "      <th>50%</th>\n",
       "      <td>1.771420e+05</td>\n",
       "      <td>1.244500e+04</td>\n",
       "      <td>5.000000e+00</td>\n",
       "      <td>2.000000e+00</td>\n",
       "      <td>3.000000e+00</td>\n",
       "    </tr>\n",
       "    <tr>\n",
       "      <th>75%</th>\n",
       "      <td>2.651870e+05</td>\n",
       "      <td>3.083100e+04</td>\n",
       "      <td>8.000000e+00</td>\n",
       "      <td>6.000000e+00</td>\n",
       "      <td>1.200000e+01</td>\n",
       "    </tr>\n",
       "    <tr>\n",
       "      <th>max</th>\n",
       "      <td>3.534040e+05</td>\n",
       "      <td>4.849200e+04</td>\n",
       "      <td>1.000000e+01</td>\n",
       "      <td>5.500000e+01</td>\n",
       "      <td>6.553500e+04</td>\n",
       "    </tr>\n",
       "  </tbody>\n",
       "</table>\n",
       "</div>"
      ],
      "text/plain": [
       "            user_id      anime_id        rating  watching_status  \\\n",
       "count  1.092247e+08  1.092247e+08  1.092247e+08     1.092247e+08   \n",
       "mean   1.768098e+05  1.649590e+04  4.245717e+00     3.087289e+00   \n",
       "std    1.018487e+05  1.379737e+04  3.912888e+00     1.774407e+00   \n",
       "min    0.000000e+00  1.000000e+00  0.000000e+00     0.000000e+00   \n",
       "25%    8.849100e+04  3.194000e+03  0.000000e+00     2.000000e+00   \n",
       "50%    1.771420e+05  1.244500e+04  5.000000e+00     2.000000e+00   \n",
       "75%    2.651870e+05  3.083100e+04  8.000000e+00     6.000000e+00   \n",
       "max    3.534040e+05  4.849200e+04  1.000000e+01     5.500000e+01   \n",
       "\n",
       "       watched_episodes  \n",
       "count      1.092247e+08  \n",
       "mean       1.210818e+01  \n",
       "std        1.463155e+02  \n",
       "min        0.000000e+00  \n",
       "25%        0.000000e+00  \n",
       "50%        3.000000e+00  \n",
       "75%        1.200000e+01  \n",
       "max        6.553500e+04  "
      ]
     },
     "execution_count": 5,
     "metadata": {},
     "output_type": "execute_result"
    }
   ],
   "source": [
    "rating.describe()"
   ]
  },
  {
   "cell_type": "code",
   "execution_count": 6,
   "metadata": {},
   "outputs": [],
   "source": [
    "rating_df = rating[[\"user_id\",\"anime_id\",\"rating\"]]"
   ]
  },
  {
   "cell_type": "code",
   "execution_count": 7,
   "metadata": {},
   "outputs": [
    {
     "data": {
      "text/html": [
       "<div>\n",
       "<style scoped>\n",
       "    .dataframe tbody tr th:only-of-type {\n",
       "        vertical-align: middle;\n",
       "    }\n",
       "\n",
       "    .dataframe tbody tr th {\n",
       "        vertical-align: top;\n",
       "    }\n",
       "\n",
       "    .dataframe thead th {\n",
       "        text-align: right;\n",
       "    }\n",
       "</style>\n",
       "<table border=\"1\" class=\"dataframe\">\n",
       "  <thead>\n",
       "    <tr style=\"text-align: right;\">\n",
       "      <th></th>\n",
       "      <th>user_id</th>\n",
       "      <th>anime_id</th>\n",
       "      <th>rating</th>\n",
       "    </tr>\n",
       "  </thead>\n",
       "  <tbody>\n",
       "    <tr>\n",
       "      <th>0</th>\n",
       "      <td>0</td>\n",
       "      <td>67</td>\n",
       "      <td>9</td>\n",
       "    </tr>\n",
       "    <tr>\n",
       "      <th>1</th>\n",
       "      <td>0</td>\n",
       "      <td>6702</td>\n",
       "      <td>7</td>\n",
       "    </tr>\n",
       "    <tr>\n",
       "      <th>2</th>\n",
       "      <td>0</td>\n",
       "      <td>242</td>\n",
       "      <td>10</td>\n",
       "    </tr>\n",
       "    <tr>\n",
       "      <th>3</th>\n",
       "      <td>0</td>\n",
       "      <td>4898</td>\n",
       "      <td>0</td>\n",
       "    </tr>\n",
       "    <tr>\n",
       "      <th>4</th>\n",
       "      <td>0</td>\n",
       "      <td>21</td>\n",
       "      <td>10</td>\n",
       "    </tr>\n",
       "  </tbody>\n",
       "</table>\n",
       "</div>"
      ],
      "text/plain": [
       "   user_id  anime_id  rating\n",
       "0        0        67       9\n",
       "1        0      6702       7\n",
       "2        0       242      10\n",
       "3        0      4898       0\n",
       "4        0        21      10"
      ]
     },
     "execution_count": 7,
     "metadata": {},
     "output_type": "execute_result"
    }
   ],
   "source": [
    "rating_df.head()"
   ]
  },
  {
   "cell_type": "markdown",
   "metadata": {},
   "source": [
    "#### User must rate atleast 400 animes"
   ]
  },
  {
   "cell_type": "code",
   "execution_count": 8,
   "metadata": {},
   "outputs": [
    {
     "data": {
      "text/plain": [
       "71418114"
      ]
     },
     "execution_count": 8,
     "metadata": {},
     "output_type": "execute_result"
    }
   ],
   "source": [
    "n_rating = rating_df['user_id'].value_counts()\n",
    "rating_df = rating_df[rating_df[\"user_id\"].isin(n_rating[n_rating>=400].index)].copy()\n",
    "len(rating_df)"
   ]
  },
  {
   "cell_type": "markdown",
   "metadata": {},
   "source": [
    "### Scale the ratings between (0,1.0)"
   ]
  },
  {
   "cell_type": "code",
   "execution_count": 9,
   "metadata": {},
   "outputs": [
    {
     "name": "stdout",
     "output_type": "stream",
     "text": [
      "Avgerage rating 0.4047793589172634\n"
     ]
    }
   ],
   "source": [
    "min_rating = min(rating_df['rating'])\n",
    "max_rating = max(rating_df['rating'])\n",
    "rating_df['rating'] = rating_df[\"rating\"].apply(lambda x: (x - min_rating) / (max_rating - min_rating)).values.astype(np.float64)\n",
    "\n",
    "\n",
    "\n",
    "AvgRating = np.mean(rating_df['rating'])\n",
    "print('Avgerage rating', AvgRating)"
   ]
  },
  {
   "cell_type": "markdown",
   "metadata": {},
   "source": [
    "### Remove duplicate rows"
   ]
  },
  {
   "cell_type": "code",
   "execution_count": 10,
   "metadata": {},
   "outputs": [],
   "source": [
    "duplicate =  rating_df.duplicated()\n",
    "if duplicate.sum()>0:\n",
    "    rating_df = rating_df[~duplicate]"
   ]
  },
  {
   "cell_type": "code",
   "execution_count": 11,
   "metadata": {},
   "outputs": [
    {
     "data": {
      "text/plain": [
       "0"
      ]
     },
     "execution_count": 11,
     "metadata": {},
     "output_type": "execute_result"
    }
   ],
   "source": [
    "duplicate =  rating_df.duplicated()\n",
    "duplicate.sum()"
   ]
  },
  {
   "cell_type": "markdown",
   "metadata": {},
   "source": [
    "### Seeing top users and top anime. Ploting their crosstab"
   ]
  },
  {
   "cell_type": "code",
   "execution_count": 12,
   "metadata": {},
   "outputs": [
    {
     "data": {
      "text/html": [
       "<div>\n",
       "<style scoped>\n",
       "    .dataframe tbody tr th:only-of-type {\n",
       "        vertical-align: middle;\n",
       "    }\n",
       "\n",
       "    .dataframe tbody tr th {\n",
       "        vertical-align: top;\n",
       "    }\n",
       "\n",
       "    .dataframe thead th {\n",
       "        text-align: right;\n",
       "    }\n",
       "</style>\n",
       "<table border=\"1\" class=\"dataframe\">\n",
       "  <thead>\n",
       "    <tr style=\"text-align: right;\">\n",
       "      <th>anime_id</th>\n",
       "      <th>1535</th>\n",
       "      <th>1575</th>\n",
       "      <th>4224</th>\n",
       "      <th>5081</th>\n",
       "      <th>5114</th>\n",
       "      <th>6547</th>\n",
       "      <th>9253</th>\n",
       "      <th>11757</th>\n",
       "      <th>16498</th>\n",
       "      <th>19815</th>\n",
       "    </tr>\n",
       "    <tr>\n",
       "      <th>user_id</th>\n",
       "      <th></th>\n",
       "      <th></th>\n",
       "      <th></th>\n",
       "      <th></th>\n",
       "      <th></th>\n",
       "      <th></th>\n",
       "      <th></th>\n",
       "      <th></th>\n",
       "      <th></th>\n",
       "      <th></th>\n",
       "    </tr>\n",
       "  </thead>\n",
       "  <tbody>\n",
       "    <tr>\n",
       "      <th>20807</th>\n",
       "      <td>1.0</td>\n",
       "      <td>1.0</td>\n",
       "      <td>1.0</td>\n",
       "      <td>0.9</td>\n",
       "      <td>1.0</td>\n",
       "      <td>1.0</td>\n",
       "      <td>1.0</td>\n",
       "      <td>1.0</td>\n",
       "      <td>1.0</td>\n",
       "      <td>1.0</td>\n",
       "    </tr>\n",
       "    <tr>\n",
       "      <th>85472</th>\n",
       "      <td>0.0</td>\n",
       "      <td>0.0</td>\n",
       "      <td>0.9</td>\n",
       "      <td>0.0</td>\n",
       "      <td>0.0</td>\n",
       "      <td>1.0</td>\n",
       "      <td>0.8</td>\n",
       "      <td>0.9</td>\n",
       "      <td>0.8</td>\n",
       "      <td>0.7</td>\n",
       "    </tr>\n",
       "    <tr>\n",
       "      <th>122341</th>\n",
       "      <td>0.3</td>\n",
       "      <td>0.2</td>\n",
       "      <td>0.3</td>\n",
       "      <td>0.3</td>\n",
       "      <td>0.8</td>\n",
       "      <td>0.5</td>\n",
       "      <td>0.7</td>\n",
       "      <td>0.1</td>\n",
       "      <td>0.1</td>\n",
       "      <td>0.4</td>\n",
       "    </tr>\n",
       "    <tr>\n",
       "      <th>131988</th>\n",
       "      <td>0.0</td>\n",
       "      <td>0.0</td>\n",
       "      <td>0.0</td>\n",
       "      <td>0.0</td>\n",
       "      <td>0.0</td>\n",
       "      <td>0.0</td>\n",
       "      <td>0.0</td>\n",
       "      <td>0.0</td>\n",
       "      <td>0.0</td>\n",
       "      <td>0.0</td>\n",
       "    </tr>\n",
       "    <tr>\n",
       "      <th>140590</th>\n",
       "      <td>0.6</td>\n",
       "      <td>0.5</td>\n",
       "      <td>0.8</td>\n",
       "      <td>0.8</td>\n",
       "      <td>0.9</td>\n",
       "      <td>0.5</td>\n",
       "      <td>0.9</td>\n",
       "      <td>0.4</td>\n",
       "      <td>0.5</td>\n",
       "      <td>0.7</td>\n",
       "    </tr>\n",
       "    <tr>\n",
       "      <th>147331</th>\n",
       "      <td>0.0</td>\n",
       "      <td>0.0</td>\n",
       "      <td>0.0</td>\n",
       "      <td>0.0</td>\n",
       "      <td>0.0</td>\n",
       "      <td>0.0</td>\n",
       "      <td>0.0</td>\n",
       "      <td>0.0</td>\n",
       "      <td>0.0</td>\n",
       "      <td>0.0</td>\n",
       "    </tr>\n",
       "    <tr>\n",
       "      <th>281232</th>\n",
       "      <td>0.0</td>\n",
       "      <td>0.0</td>\n",
       "      <td>0.0</td>\n",
       "      <td>0.0</td>\n",
       "      <td>0.0</td>\n",
       "      <td>0.0</td>\n",
       "      <td>0.0</td>\n",
       "      <td>0.0</td>\n",
       "      <td>0.0</td>\n",
       "      <td>0.0</td>\n",
       "    </tr>\n",
       "    <tr>\n",
       "      <th>283786</th>\n",
       "      <td>1.0</td>\n",
       "      <td>0.9</td>\n",
       "      <td>0.5</td>\n",
       "      <td>0.9</td>\n",
       "      <td>0.9</td>\n",
       "      <td>0.7</td>\n",
       "      <td>0.9</td>\n",
       "      <td>0.9</td>\n",
       "      <td>0.9</td>\n",
       "      <td>0.8</td>\n",
       "    </tr>\n",
       "    <tr>\n",
       "      <th>297931</th>\n",
       "      <td>0.0</td>\n",
       "      <td>0.0</td>\n",
       "      <td>0.0</td>\n",
       "      <td>0.0</td>\n",
       "      <td>0.0</td>\n",
       "      <td>0.0</td>\n",
       "      <td>0.0</td>\n",
       "      <td>0.0</td>\n",
       "      <td>0.8</td>\n",
       "      <td>0.0</td>\n",
       "    </tr>\n",
       "    <tr>\n",
       "      <th>312302</th>\n",
       "      <td>1.0</td>\n",
       "      <td>0.9</td>\n",
       "      <td>0.8</td>\n",
       "      <td>0.8</td>\n",
       "      <td>1.0</td>\n",
       "      <td>0.7</td>\n",
       "      <td>1.0</td>\n",
       "      <td>0.9</td>\n",
       "      <td>0.8</td>\n",
       "      <td>0.8</td>\n",
       "    </tr>\n",
       "  </tbody>\n",
       "</table>\n",
       "</div>"
      ],
      "text/plain": [
       "anime_id  1535   1575   4224   5081   5114   6547   9253   11757  16498  19815\n",
       "user_id                                                                       \n",
       "20807       1.0    1.0    1.0    0.9    1.0    1.0    1.0    1.0    1.0    1.0\n",
       "85472       0.0    0.0    0.9    0.0    0.0    1.0    0.8    0.9    0.8    0.7\n",
       "122341      0.3    0.2    0.3    0.3    0.8    0.5    0.7    0.1    0.1    0.4\n",
       "131988      0.0    0.0    0.0    0.0    0.0    0.0    0.0    0.0    0.0    0.0\n",
       "140590      0.6    0.5    0.8    0.8    0.9    0.5    0.9    0.4    0.5    0.7\n",
       "147331      0.0    0.0    0.0    0.0    0.0    0.0    0.0    0.0    0.0    0.0\n",
       "281232      0.0    0.0    0.0    0.0    0.0    0.0    0.0    0.0    0.0    0.0\n",
       "283786      1.0    0.9    0.5    0.9    0.9    0.7    0.9    0.9    0.9    0.8\n",
       "297931      0.0    0.0    0.0    0.0    0.0    0.0    0.0    0.0    0.8    0.0\n",
       "312302      1.0    0.9    0.8    0.8    1.0    0.7    1.0    0.9    0.8    0.8"
      ]
     },
     "execution_count": 12,
     "metadata": {},
     "output_type": "execute_result"
    }
   ],
   "source": [
    "g = rating_df.groupby('user_id')['rating'].count()\n",
    "top_users = g.dropna().sort_values(ascending=False)[:10]\n",
    "top_r = rating_df.join(top_users,rsuffix='_r',how='inner',on='user_id')\n",
    "\n",
    "g = rating_df.groupby('anime_id')['rating'].count()\n",
    "top_animes = g.dropna().sort_values(ascending=False)[:10]\n",
    "top_r = top_r.join(top_animes,rsuffix='_r',how='inner',on=\"anime_id\")\n",
    "\n",
    "pd.crosstab(top_r.user_id, top_r.anime_id,top_r.rating, aggfunc = np.sum)"
   ]
  },
  {
   "cell_type": "markdown",
   "metadata": {},
   "source": [
    "## Data Preprocessing"
   ]
  },
  {
   "cell_type": "code",
   "execution_count": 13,
   "metadata": {},
   "outputs": [],
   "source": [
    "user_ids = rating_df[\"user_id\"].unique().tolist()"
   ]
  },
  {
   "cell_type": "markdown",
   "metadata": {},
   "source": [
    "#### Encoding the user "
   ]
  },
  {
   "cell_type": "code",
   "execution_count": 14,
   "metadata": {},
   "outputs": [],
   "source": [
    "user2user = {x: i for i, x in enumerate(user_ids)}\n",
    "encoded2user = {i: x for i, x in enumerate(user_ids)}"
   ]
  },
  {
   "cell_type": "code",
   "execution_count": 15,
   "metadata": {},
   "outputs": [
    {
     "name": "stdout",
     "output_type": "stream",
     "text": [
      "Total users 91641\n"
     ]
    }
   ],
   "source": [
    "n_user = len(user2user)\n",
    "print(\"Total users\",n_user)"
   ]
  },
  {
   "cell_type": "code",
   "execution_count": 16,
   "metadata": {},
   "outputs": [],
   "source": [
    "anime_ids = rating_df[\"anime_id\"].unique().tolist()\n",
    "anime2anime =  {x: i for i, x in enumerate(anime_ids)}\n",
    "encoded2anime = {i: x for i, x in enumerate(anime_ids)}"
   ]
  },
  {
   "cell_type": "code",
   "execution_count": 17,
   "metadata": {},
   "outputs": [
    {
     "name": "stdout",
     "output_type": "stream",
     "text": [
      "Total animes 17560\n"
     ]
    }
   ],
   "source": [
    "n_anime = len(anime2anime)\n",
    "print('Total animes',n_anime)"
   ]
  },
  {
   "cell_type": "code",
   "execution_count": 18,
   "metadata": {},
   "outputs": [],
   "source": [
    "rating_df[\"user\"] = rating_df[\"user_id\"].map(user2user)\n",
    "rating_df[\"anime\"] = rating_df[\"anime_id\"].map(anime2anime)"
   ]
  },
  {
   "cell_type": "markdown",
   "metadata": {},
   "source": [
    "#### Shuffle data"
   ]
  },
  {
   "cell_type": "code",
   "execution_count": 19,
   "metadata": {},
   "outputs": [],
   "source": [
    "rating_df = rating_df.sample(frac=1, random_state=73)\n",
    "\n",
    "X = rating_df[['user', 'anime']].values\n",
    "y = rating_df[\"rating\"]"
   ]
  },
  {
   "cell_type": "markdown",
   "metadata": {},
   "source": [
    "#### Split data"
   ]
  },
  {
   "cell_type": "code",
   "execution_count": 20,
   "metadata": {},
   "outputs": [],
   "source": [
    "test_set_size = 10000 #10k for test set\n",
    "train_indices = rating_df.shape[0] - test_set_size \n",
    "\n",
    "X_train, X_test, y_train, y_test = (\n",
    "    X[:train_indices],\n",
    "    X[train_indices:],\n",
    "    y[:train_indices],\n",
    "    y[train_indices:],\n",
    ")"
   ]
  },
  {
   "cell_type": "code",
   "execution_count": 21,
   "metadata": {},
   "outputs": [
    {
     "data": {
      "text/plain": [
       "array([[23948, 11200],\n",
       "       [72463,   757],\n",
       "       [62985,  1808],\n",
       "       ...,\n",
       "       [34207,  3456],\n",
       "       [58411,  3235],\n",
       "       [58969,  2428]])"
      ]
     },
     "execution_count": 21,
     "metadata": {},
     "output_type": "execute_result"
    }
   ],
   "source": [
    "X_train"
   ]
  },
  {
   "cell_type": "code",
   "execution_count": 22,
   "metadata": {},
   "outputs": [
    {
     "data": {
      "text/plain": [
       "[array([23948, 72463, 62985, ..., 34207, 58411, 58969]),\n",
       " array([11200,   757,  1808, ...,  3456,  3235,  2428])]"
      ]
     },
     "execution_count": 22,
     "metadata": {},
     "output_type": "execute_result"
    }
   ],
   "source": [
    "X_train_array = [X_train[:, 0], X_train[:, 1]]\n",
    "X_train_array"
   ]
  },
  {
   "cell_type": "code",
   "execution_count": 23,
   "metadata": {},
   "outputs": [
    {
     "data": {
      "text/plain": [
       "[array([12055, 12209, 63132, ..., 65683, 77931, 40652]),\n",
       " array([1513, 1437, 6488, ..., 1094, 1757, 3920])]"
      ]
     },
     "execution_count": 23,
     "metadata": {},
     "output_type": "execute_result"
    }
   ],
   "source": [
    "X_test_array = [X_test[:, 0], X_test[:, 1]]\n",
    "X_test_array"
   ]
  },
  {
   "cell_type": "code",
   "execution_count": null,
   "metadata": {},
   "outputs": [],
   "source": []
  },
  {
   "cell_type": "code",
   "execution_count": 24,
   "metadata": {},
   "outputs": [],
   "source": [
    "import tensorflow as tf"
   ]
  },
  {
   "cell_type": "code",
   "execution_count": 25,
   "metadata": {},
   "outputs": [
    {
     "data": {
      "text/plain": [
       "'2.6.2'"
      ]
     },
     "execution_count": 25,
     "metadata": {},
     "output_type": "execute_result"
    }
   ],
   "source": [
    "tf.__version__"
   ]
  },
  {
   "cell_type": "code",
   "execution_count": 26,
   "metadata": {},
   "outputs": [],
   "source": [
    "import keras"
   ]
  },
  {
   "cell_type": "code",
   "execution_count": 27,
   "metadata": {},
   "outputs": [],
   "source": [
    "from keras.models import Model\n",
    "from tensorflow.keras.optimizers import Adam "
   ]
  },
  {
   "cell_type": "code",
   "execution_count": 28,
   "metadata": {},
   "outputs": [
    {
     "name": "stdout",
     "output_type": "stream",
     "text": [
      "Model: \"model\"\n",
      "__________________________________________________________________________________________________\n",
      "Layer (type)                    Output Shape         Param #     Connected to                     \n",
      "==================================================================================================\n",
      "user (InputLayer)               [(None, 1)]          0                                            \n",
      "__________________________________________________________________________________________________\n",
      "anime (InputLayer)              [(None, 1)]          0                                            \n",
      "__________________________________________________________________________________________________\n",
      "user_embedding (Embedding)      (None, 1, 128)       11730048    user[0][0]                       \n",
      "__________________________________________________________________________________________________\n",
      "anime_embedding (Embedding)     (None, 1, 128)       2247680     anime[0][0]                      \n",
      "__________________________________________________________________________________________________\n",
      "dot_product (Dot)               (None, 1, 1)         0           user_embedding[0][0]             \n",
      "                                                                 anime_embedding[0][0]            \n",
      "__________________________________________________________________________________________________\n",
      "flatten (Flatten)               (None, 1)            0           dot_product[0][0]                \n",
      "__________________________________________________________________________________________________\n",
      "dense (Dense)                   (None, 1)            2           flatten[0][0]                    \n",
      "__________________________________________________________________________________________________\n",
      "batch_normalization (BatchNorma (None, 1)            4           dense[0][0]                      \n",
      "__________________________________________________________________________________________________\n",
      "activation (Activation)         (None, 1)            0           batch_normalization[0][0]        \n",
      "==================================================================================================\n",
      "Total params: 13,977,734\n",
      "Trainable params: 13,977,732\n",
      "Non-trainable params: 2\n",
      "__________________________________________________________________________________________________\n"
     ]
    }
   ],
   "source": [
    "# Embedding layers\n",
    "from keras.layers import Add, Activation, Lambda, BatchNormalization, Concatenate, Dropout, Input, Embedding, Dot, Reshape, Dense, Flatten\n",
    "\n",
    "def RecommenderNet():\n",
    "    embedding_size = 128\n",
    "    \n",
    "    user = Input(name = 'user', shape = [1])\n",
    "    user_embedding = Embedding(name = 'user_embedding',\n",
    "                       input_dim = n_user, \n",
    "                       output_dim = embedding_size)(user)\n",
    "    \n",
    "    anime = Input(name = 'anime', shape = [1])\n",
    "    anime_embedding = Embedding(name = 'anime_embedding',\n",
    "                       input_dim = n_anime, \n",
    "                       output_dim = embedding_size)(anime)\n",
    "    \n",
    "    #x = Concatenate()([user_embedding, anime_embedding])\n",
    "    x = Dot(name = 'dot_product', normalize = True, axes = 2)([user_embedding, anime_embedding])\n",
    "    x = Flatten()(x)\n",
    "        \n",
    "    x = Dense(1, kernel_initializer='he_normal')(x)\n",
    "    x = BatchNormalization()(x)\n",
    "    x = Activation(\"sigmoid\")(x)\n",
    "    \n",
    "    model = Model(inputs=[user, anime], outputs=x)\n",
    "    model.compile(loss='binary_crossentropy', metrics=[\"mae\", \"mse\"], optimizer='Adam')\n",
    "    \n",
    "    return model\n",
    "\n",
    "model = RecommenderNet()\n",
    "model.summary()"
   ]
  },
  {
   "cell_type": "code",
   "execution_count": 29,
   "metadata": {},
   "outputs": [],
   "source": [
    "\n",
    "from tensorflow.keras.callbacks import Callback, ModelCheckpoint, LearningRateScheduler, TensorBoard, EarlyStopping, ReduceLROnPlateau\n",
    "\n",
    "start_lr = 0.00001\n",
    "min_lr = 0.00001\n",
    "max_lr = 0.00005\n",
    "batch_size = 10000\n",
    "\n",
    "\n",
    "rampup_epochs = 5\n",
    "sustain_epochs = 0\n",
    "exp_decay = .8\n",
    "\n",
    "def lrfn(epoch):\n",
    "    if epoch < rampup_epochs:\n",
    "        return (max_lr - start_lr)/rampup_epochs * epoch + start_lr\n",
    "    elif epoch < rampup_epochs + sustain_epochs:\n",
    "        return max_lr\n",
    "    else:\n",
    "        return (max_lr - min_lr) * exp_decay**(epoch-rampup_epochs-sustain_epochs) + min_lr\n",
    "\n",
    "\n",
    "lr_callback = LearningRateScheduler(lambda epoch: lrfn(epoch), verbose=0)\n",
    "\n",
    "checkpoint_filepath = './weights.h5'\n",
    "\n",
    "model_checkpoints = ModelCheckpoint(filepath=checkpoint_filepath,\n",
    "                                        save_weights_only=True,\n",
    "                                        monitor='val_loss',\n",
    "                                        mode='min',\n",
    "                                        save_best_only=True)\n",
    "\n",
    "early_stopping = EarlyStopping(patience = 3, monitor='val_loss', \n",
    "                               mode='min', restore_best_weights=True)\n",
    "\n",
    "my_callbacks = [\n",
    "    model_checkpoints,\n",
    "    lr_callback,\n",
    "    early_stopping,   \n",
    "]"
   ]
  },
  {
   "cell_type": "code",
   "execution_count": 31,
   "metadata": {},
   "outputs": [
    {
     "name": "stdout",
     "output_type": "stream",
     "text": [
      "7141/7141 [==============================] - 3535s 494ms/step - loss: 0.7498 - mae: 0.3748 - mse: 0.1812 - val_loss: 0.7399 - val_mae: 0.3759 - val_mse: 0.1790\n"
     ]
    }
   ],
   "source": [
    "history = model.fit(\n",
    "    x=X_train_array,\n",
    "    y=y_train,\n",
    "    batch_size=batch_size,\n",
    "    epochs=1,\n",
    "    verbose=1,\n",
    "    validation_data=(X_test_array, y_test),\n",
    "    callbacks=my_callbacks\n",
    ")\n",
    "\n",
    "model.load_weights(checkpoint_filepath)"
   ]
  },
  {
   "cell_type": "code",
   "execution_count": 132,
   "metadata": {},
   "outputs": [],
   "source": [
    "def extract_weights(name, model):\n",
    "    weight_layer = model.get_layer(name)\n",
    "    weights = weight_layer.get_weights()[0]\n",
    "    weights = weights / np.linalg.norm(weights, axis = 1).reshape((-1, 1))\n",
    "    return weights\n",
    "\n",
    "anime_weights = extract_weights('anime_embedding', model)\n",
    "user_weights = extract_weights('user_embedding', model)"
   ]
  },
  {
   "cell_type": "code",
   "execution_count": 133,
   "metadata": {},
   "outputs": [],
   "source": [
    "df = pd.read_csv('anime.csv', low_memory=True)\n",
    "df = df.replace(\"Unknown\", np.nan)"
   ]
  },
  {
   "cell_type": "code",
   "execution_count": 134,
   "metadata": {},
   "outputs": [
    {
     "data": {
      "text/plain": [
       "Index(['MAL_ID', 'Name', 'Score', 'Genres', 'English name', 'Japanese name',\n",
       "       'Type', 'Episodes', 'Aired', 'Premiered', 'Producers', 'Licensors',\n",
       "       'Studios', 'Source', 'Duration', 'Rating', 'Ranked', 'Popularity',\n",
       "       'Members', 'Favorites', 'Watching', 'Completed', 'On-Hold', 'Dropped',\n",
       "       'Plan to Watch', 'Score-10', 'Score-9', 'Score-8', 'Score-7', 'Score-6',\n",
       "       'Score-5', 'Score-4', 'Score-3', 'Score-2', 'Score-1'],\n",
       "      dtype='object')"
      ]
     },
     "execution_count": 134,
     "metadata": {},
     "output_type": "execute_result"
    }
   ],
   "source": [
    "df.columns"
   ]
  },
  {
   "cell_type": "code",
   "execution_count": 135,
   "metadata": {},
   "outputs": [],
   "source": [
    "def getAnimeName(anime_id):\n",
    "    try:\n",
    "        name = df[df.anime_id == anime_id].eng_version.values[0]\n",
    "        if name is np.nan:\n",
    "            name = df[df.anime_id == anime_id].Name.values[0]\n",
    "    except:\n",
    "        print('error')\n",
    "    \n",
    "    return name\n",
    "\n",
    "df['anime_id'] = df['MAL_ID']\n",
    "df[\"eng_version\"] = df['English name']\n",
    "df['eng_version'] = df.anime_id.apply(lambda x: getAnimeName(x))\n",
    "\n",
    "df.sort_values(by=['Score'], \n",
    "               inplace=True,\n",
    "               ascending=False, \n",
    "               kind='quicksort',\n",
    "               na_position='last')\n",
    "\n",
    "df = df[[\"anime_id\", \"eng_version\", \"Score\", \"Genres\", \"Episodes\", \n",
    "         \"Type\", \"Premiered\", \"Members\"]]"
   ]
  },
  {
   "cell_type": "code",
   "execution_count": 136,
   "metadata": {},
   "outputs": [],
   "source": [
    "def getAnimeFrame(anime):\n",
    "    if isinstance(anime, int):\n",
    "        return df[df.anime_id == anime]\n",
    "    if isinstance(anime, str):\n",
    "        return df[df.eng_version == anime]"
   ]
  },
  {
   "cell_type": "code",
   "execution_count": 137,
   "metadata": {},
   "outputs": [],
   "source": [
    "cols = [\"MAL_ID\", \"Name\", \"Genres\", \"sypnopsis\"]\n",
    "sypnopsis_df = pd.read_csv('anime_with_synopsis.csv', usecols=cols)\n",
    "\n",
    "def getSypnopsis(anime):\n",
    "    if isinstance(anime, int):\n",
    "        return sypnopsis_df[sypnopsis_df.MAL_ID == anime].sypnopsis.values[0]\n",
    "    if isinstance(anime, str):\n",
    "        return sypnopsis_df[sypnopsis_df.Name == anime].sypnopsis.values[0]"
   ]
  },
  {
   "cell_type": "code",
   "execution_count": 138,
   "metadata": {},
   "outputs": [
    {
     "data": {
      "text/html": [
       "<div>\n",
       "<style scoped>\n",
       "    .dataframe tbody tr th:only-of-type {\n",
       "        vertical-align: middle;\n",
       "    }\n",
       "\n",
       "    .dataframe tbody tr th {\n",
       "        vertical-align: top;\n",
       "    }\n",
       "\n",
       "    .dataframe thead th {\n",
       "        text-align: right;\n",
       "    }\n",
       "</style>\n",
       "<table border=\"1\" class=\"dataframe\">\n",
       "  <thead>\n",
       "    <tr style=\"text-align: right;\">\n",
       "      <th></th>\n",
       "      <th>MAL_ID</th>\n",
       "      <th>Name</th>\n",
       "      <th>Genres</th>\n",
       "      <th>sypnopsis</th>\n",
       "    </tr>\n",
       "  </thead>\n",
       "  <tbody>\n",
       "    <tr>\n",
       "      <th>7674</th>\n",
       "      <td>22319</td>\n",
       "      <td>Tokyo Ghoul</td>\n",
       "      <td>Action, Mystery, Horror, Psychological, Supernatural, Drama, Seinen</td>\n",
       "      <td>Tokyo has become a cruel and merciless city—a place where vicious creatures called \"ghouls\" exist alongside humans. The citizens of this once great metropolis live in constant fear of these bloodthirsty savages and their thirst for human flesh. However, the greatest threat these ghouls pose is their dangerous ability to masquerade as humans and blend in with society. Based on the best-selling supernatural horror manga by Sui Ishida, Tokyo Ghoul follows Ken Kaneki, a shy, bookish college student, who is instantly drawn to Rize Kamishiro, an avid reader like himself. However, Rize is not exactly who she seems, and this unfortunate meeting pushes Kaneki into the dark depths of the ghouls' inhuman world. In a twist of fate, Kaneki is saved by the enigmatic waitress Touka Kirishima, and thus begins his new, secret life as a half-ghoul/half-human who must find a way to integrate into both societies.</td>\n",
       "    </tr>\n",
       "  </tbody>\n",
       "</table>\n",
       "</div>"
      ],
      "text/plain": [
       "      MAL_ID         Name  \\\n",
       "7674   22319  Tokyo Ghoul   \n",
       "\n",
       "                                                                   Genres  \\\n",
       "7674  Action, Mystery, Horror, Psychological, Supernatural, Drama, Seinen   \n",
       "\n",
       "                                                                                                                                                                                                                                                                                                                                                                                                                                                                                                                                                                                                                                                                                                                                                                                                                                                                                                                                       sypnopsis  \n",
       "7674  Tokyo has become a cruel and merciless city—a place where vicious creatures called \"ghouls\" exist alongside humans. The citizens of this once great metropolis live in constant fear of these bloodthirsty savages and their thirst for human flesh. However, the greatest threat these ghouls pose is their dangerous ability to masquerade as humans and blend in with society. Based on the best-selling supernatural horror manga by Sui Ishida, Tokyo Ghoul follows Ken Kaneki, a shy, bookish college student, who is instantly drawn to Rize Kamishiro, an avid reader like himself. However, Rize is not exactly who she seems, and this unfortunate meeting pushes Kaneki into the dark depths of the ghouls' inhuman world. In a twist of fate, Kaneki is saved by the enigmatic waitress Touka Kirishima, and thus begins his new, secret life as a half-ghoul/half-human who must find a way to integrate into both societies.  "
      ]
     },
     "execution_count": 138,
     "metadata": {},
     "output_type": "execute_result"
    }
   ],
   "source": [
    "sypnopsis_df[sypnopsis_df[\"Name\"]==\"Tokyo Ghoul\"]"
   ]
  },
  {
   "cell_type": "code",
   "execution_count": 158,
   "metadata": {},
   "outputs": [],
   "source": [
    "pd.set_option(\"max_colwidth\", None)\n",
    "\n",
    "def find_similar_animes(name, n=10, return_dist=False, neg=False):\n",
    "    try:\n",
    "        \n",
    "        index = getAnimeFrame(name).anime_id.values[0]\n",
    "        #print(index)\n",
    "        encoded_index = anime2anime.get(index)\n",
    "        #print(encoded_index)\n",
    "        weights = anime_weights\n",
    "        \n",
    "        dists = np.dot(weights, weights[encoded_index])\n",
    "        sorted_dists = np.argsort(dists)\n",
    "        \n",
    "        n = n + 1            \n",
    "        \n",
    "        if neg:\n",
    "            closest = sorted_dists[:n]\n",
    "        else:\n",
    "            closest = sorted_dists[-n:]\n",
    "\n",
    "        print('animes closest to {}'.format(name))\n",
    "        if return_dist:\n",
    "            return dists, closest\n",
    "        \n",
    "        rindex = df\n",
    "\n",
    "        SimilarityArr = []\n",
    "        \n",
    "        for close in closest:\n",
    "            decoded_id = encoded2anime.get(close)\n",
    "            #print(\"here3\")\n",
    "            sypnopsis = getSypnopsis(decoded_id)\n",
    "            anime_frame = getAnimeFrame(decoded_id)\n",
    "            \n",
    "            anime_name = anime_frame.eng_version.values[0]\n",
    "            \n",
    "            genre = anime_frame.Genres.values[0]\n",
    "            similarity = dists[close]\n",
    "            \n",
    "            SimilarityArr.append({\"anime_id\": decoded_id, \"name\": anime_name,\n",
    "                                  \"similarity\": similarity,\"genre\": genre,\n",
    "                                  'sypnopsis': sypnopsis})\n",
    "\n",
    "        Frame = pd.DataFrame(SimilarityArr).sort_values(by=\"similarity\", ascending=False)\n",
    "        return Frame[Frame.anime_id != index].drop(['anime_id'], axis=1)\n",
    "    except Exception as e:\n",
    "        print(e)\n",
    "        print('{}!, Not Found in Anime list'.format(name))"
   ]
  },
  {
   "cell_type": "code",
   "execution_count": 159,
   "metadata": {},
   "outputs": [
    {
     "name": "stdout",
     "output_type": "stream",
     "text": [
      "animes closest to Your Name.\n"
     ]
    },
    {
     "data": {
      "text/html": [
       "<div>\n",
       "<style scoped>\n",
       "    .dataframe tbody tr th:only-of-type {\n",
       "        vertical-align: middle;\n",
       "    }\n",
       "\n",
       "    .dataframe tbody tr th {\n",
       "        vertical-align: top;\n",
       "    }\n",
       "\n",
       "    .dataframe thead th {\n",
       "        text-align: right;\n",
       "    }\n",
       "</style>\n",
       "<table border=\"1\" class=\"dataframe\">\n",
       "  <thead>\n",
       "    <tr style=\"text-align: right;\">\n",
       "      <th></th>\n",
       "      <th>name</th>\n",
       "      <th>similarity</th>\n",
       "      <th>genre</th>\n",
       "      <th>sypnopsis</th>\n",
       "    </tr>\n",
       "  </thead>\n",
       "  <tbody>\n",
       "    <tr>\n",
       "      <th>4</th>\n",
       "      <td>Mazinger Z tai Ankoku Daishougun</td>\n",
       "      <td>0.337037</td>\n",
       "      <td>Action, Mecha, Shounen</td>\n",
       "      <td>Kouji and his friends have defeated Dr. Hell and are now enjoying a break, but suddenly a strange prophet appears and warns everyone of an oncoming danger, mechanical beasts never seen before start appearing all around the world wrecking havoc. Its up to Kouji and his Mazinger Z to stand up to this threat but it seems he is vastly outnumber and outmatched. This film served as an alternative link between the Mazinger Z TV series and the Great Mazinger TV series. It basically introduces Great Mazinger to the audience, as well as his enemies from the Mikene Empire.</td>\n",
       "    </tr>\n",
       "    <tr>\n",
       "      <th>3</th>\n",
       "      <td>God Mars</td>\n",
       "      <td>0.305313</td>\n",
       "      <td>Action, Mecha, Sci-Fi, Space</td>\n",
       "      <td>In the year 1999, humanity begins to advance beyond the solar system. The planet Gishin, led by the Emperor Zule, which aims to conquer the galaxy, runs into conflict with Earth. He targets Earth for elimination and to do this, he sends a baby called Mars to live among humanity. Accompanying the baby is a giant robot named Gaia, which utilizes a new power source strong enough to destroy an entire planet. As planned, Mars is expected to grow up, where he will activate the bomb within Gaia to fulfill the mission of destroying the Earth. However, when Mars arrives on Earth his is adopted into a Japanese family and given the name Takeru. Seventeen years later, Takeru would grow up with a love for humanity and refuses to detonate the bomb as ordered by Zule. However, if Takeru was to die, the bomb within Gaia would explode destroying the earth. Takeru possesses psychic powers ( ESP ) and decides to join the Earth defense forces and becomes a member of the Crasher Squad (an elite space defense force) where he and his friends take a last stand against the Gishin's attack. The relationship of Takeru with his brother Maag, which fate would have it, pitted the two against each other in the war. Unknown to the Gishin five other robots were created in secrecy along side Gaia by Takeru's father and sent with Gaia to protect Takeru. Whenever Earth is in danger, Takeru is able to summon the five other robots to combine with Gaia form the giant robot Godmars. The five other robots are Sphinx, Uranus, Titan, Shin and Ra.</td>\n",
       "    </tr>\n",
       "    <tr>\n",
       "      <th>2</th>\n",
       "      <td>Detective Conan Movie 17: Private Eye in the Distant Sea</td>\n",
       "      <td>0.301530</td>\n",
       "      <td>Adventure, Mystery, Comedy, Police, Shounen</td>\n",
       "      <td>The warship Aegis Destroyer is conducting public exercises in Maizuru Bay where, coincidentally, a suspicious foreign ship was recently spotted. Conan Edogawa, Ran Mouri, Kogorou Mouri, Sonoko Suzuki, and the Detective Boys all receive a ticket to attend this event. However, while the ongoing military operations are underway, one of the crew members comes across a lieutenant's severed left arm. Conan later discovers that a foreign spy may have infiltrated the warship to obtain classified information by any means necessary. If the information were to leak, Japan's line of defense would be exposed, leaving the country unprotected from hostile attack. With the help of the police at sea while other friends and allies investigate on the mainland, Conan must now prevent this national crisis and identify the spy for the sake of Japan.</td>\n",
       "    </tr>\n",
       "    <tr>\n",
       "      <th>1</th>\n",
       "      <td>Chuubyou Gekihatsu Boy Special</td>\n",
       "      <td>0.299127</td>\n",
       "      <td>Slice of Life, Comedy, School</td>\n",
       "      <td>Unaired episode 12 included with volume 4 of the BD/DVD release.</td>\n",
       "    </tr>\n",
       "    <tr>\n",
       "      <th>0</th>\n",
       "      <td>Hitotsu no Doa</td>\n",
       "      <td>0.290830</td>\n",
       "      <td>Kids, Music</td>\n",
       "      <td>usic video for the song Hitotsu no Doa by Yui Komuro that was featured on NHK's Minna no Uta program. The video was animated by Keizou Kira.</td>\n",
       "    </tr>\n",
       "  </tbody>\n",
       "</table>\n",
       "</div>"
      ],
      "text/plain": [
       "                                                       name  similarity  \\\n",
       "4                          Mazinger Z tai Ankoku Daishougun    0.337037   \n",
       "3                                                  God Mars    0.305313   \n",
       "2  Detective Conan Movie 17: Private Eye in the Distant Sea    0.301530   \n",
       "1                            Chuubyou Gekihatsu Boy Special    0.299127   \n",
       "0                                            Hitotsu no Doa    0.290830   \n",
       "\n",
       "                                         genre  \\\n",
       "4                       Action, Mecha, Shounen   \n",
       "3                 Action, Mecha, Sci-Fi, Space   \n",
       "2  Adventure, Mystery, Comedy, Police, Shounen   \n",
       "1                Slice of Life, Comedy, School   \n",
       "0                                  Kids, Music   \n",
       "\n",
       "                                                                                                                                                                                                                                                                                                                                                                                                                                                                                                                                                                                                                                                                                                                                                                                                                                                                                                                                                                                                                                                                                                                                                                                                                                                                                                                                                                                                                                                                                                                                                                                   sypnopsis  \n",
       "4                                                                                                                                                                                                                                                                                                                                                                                                                                                                                                                                                                                                                                                                                                                                                                                                                                                                                                                                                                                                   Kouji and his friends have defeated Dr. Hell and are now enjoying a break, but suddenly a strange prophet appears and warns everyone of an oncoming danger, mechanical beasts never seen before start appearing all around the world wrecking havoc. Its up to Kouji and his Mazinger Z to stand up to this threat but it seems he is vastly outnumber and outmatched. This film served as an alternative link between the Mazinger Z TV series and the Great Mazinger TV series. It basically introduces Great Mazinger to the audience, as well as his enemies from the Mikene Empire.  \n",
       "3  In the year 1999, humanity begins to advance beyond the solar system. The planet Gishin, led by the Emperor Zule, which aims to conquer the galaxy, runs into conflict with Earth. He targets Earth for elimination and to do this, he sends a baby called Mars to live among humanity. Accompanying the baby is a giant robot named Gaia, which utilizes a new power source strong enough to destroy an entire planet. As planned, Mars is expected to grow up, where he will activate the bomb within Gaia to fulfill the mission of destroying the Earth. However, when Mars arrives on Earth his is adopted into a Japanese family and given the name Takeru. Seventeen years later, Takeru would grow up with a love for humanity and refuses to detonate the bomb as ordered by Zule. However, if Takeru was to die, the bomb within Gaia would explode destroying the earth. Takeru possesses psychic powers ( ESP ) and decides to join the Earth defense forces and becomes a member of the Crasher Squad (an elite space defense force) where he and his friends take a last stand against the Gishin's attack. The relationship of Takeru with his brother Maag, which fate would have it, pitted the two against each other in the war. Unknown to the Gishin five other robots were created in secrecy along side Gaia by Takeru's father and sent with Gaia to protect Takeru. Whenever Earth is in danger, Takeru is able to summon the five other robots to combine with Gaia form the giant robot Godmars. The five other robots are Sphinx, Uranus, Titan, Shin and Ra.  \n",
       "2                                                                                                                                                                                                                                                                                                                                                                                                                                                                                                                                                                                                                                                                                                                    The warship Aegis Destroyer is conducting public exercises in Maizuru Bay where, coincidentally, a suspicious foreign ship was recently spotted. Conan Edogawa, Ran Mouri, Kogorou Mouri, Sonoko Suzuki, and the Detective Boys all receive a ticket to attend this event. However, while the ongoing military operations are underway, one of the crew members comes across a lieutenant's severed left arm. Conan later discovers that a foreign spy may have infiltrated the warship to obtain classified information by any means necessary. If the information were to leak, Japan's line of defense would be exposed, leaving the country unprotected from hostile attack. With the help of the police at sea while other friends and allies investigate on the mainland, Conan must now prevent this national crisis and identify the spy for the sake of Japan.  \n",
       "1                                                                                                                                                                                                                                                                                                                                                                                                                                                                                                                                                                                                                                                                                                                                                                                                                                                                                                                                                                                                                                                                                                                                                                                                                                                                                                                                                                                                                                                                                                                           Unaired episode 12 included with volume 4 of the BD/DVD release.  \n",
       "0                                                                                                                                                                                                                                                                                                                                                                                                                                                                                                                                                                                                                                                                                                                                                                                                                                                                                                                                                                                                                                                                                                                                                                                                                                                                                                                                                                                                                                               usic video for the song Hitotsu no Doa by Yui Komuro that was featured on NHK's Minna no Uta program. The video was animated by Keizou Kira.  "
      ]
     },
     "execution_count": 159,
     "metadata": {},
     "output_type": "execute_result"
    }
   ],
   "source": [
    "find_similar_animes('Your Name.', n=5, neg=False)"
   ]
  },
  {
   "cell_type": "code",
   "execution_count": 160,
   "metadata": {},
   "outputs": [
    {
     "name": "stdout",
     "output_type": "stream",
     "text": [
      "animes closest to Sword Art Online\n"
     ]
    },
    {
     "data": {
      "text/html": [
       "<div>\n",
       "<style scoped>\n",
       "    .dataframe tbody tr th:only-of-type {\n",
       "        vertical-align: middle;\n",
       "    }\n",
       "\n",
       "    .dataframe tbody tr th {\n",
       "        vertical-align: top;\n",
       "    }\n",
       "\n",
       "    .dataframe thead th {\n",
       "        text-align: right;\n",
       "    }\n",
       "</style>\n",
       "<table border=\"1\" class=\"dataframe\">\n",
       "  <thead>\n",
       "    <tr style=\"text-align: right;\">\n",
       "      <th></th>\n",
       "      <th>name</th>\n",
       "      <th>similarity</th>\n",
       "      <th>genre</th>\n",
       "      <th>sypnopsis</th>\n",
       "    </tr>\n",
       "  </thead>\n",
       "  <tbody>\n",
       "    <tr>\n",
       "      <th>9</th>\n",
       "      <td>Mahoromatic End Year Special</td>\n",
       "      <td>0.360323</td>\n",
       "      <td>Ecchi, Romance, Comedy, Military, Sci-Fi</td>\n",
       "      <td>cap episode.</td>\n",
       "    </tr>\n",
       "    <tr>\n",
       "      <th>8</th>\n",
       "      <td>Tenchi Muyo! Ryo-Ohki</td>\n",
       "      <td>0.337389</td>\n",
       "      <td>Action, Comedy, Harem, Sci-Fi, Shounen, Space</td>\n",
       "      <td>hile the galaxy remains at peace, Tenchi Masaki continues to live on Earth with Ryouko and Washuu Hakubi, Aeka and Sasami Jurai Masaki, Mihoshi Kuramitsu, and the cat-like creature Ryo-Ohki. Though it sounds great to be surrounded by so many women, they always end up making things difficult for Tenchi by constantly fighting for his attention, and their attempts at household chores always end in disaster. Although life has become more chaotic since they moved in, Tenchi begins to form a strong bond with his roommates and gains more insight into their respective struggles and history.</td>\n",
       "    </tr>\n",
       "    <tr>\n",
       "      <th>7</th>\n",
       "      <td>Bokurano</td>\n",
       "      <td>0.327979</td>\n",
       "      <td>Sci-Fi, Psychological, Drama, Mecha, Seinen</td>\n",
       "      <td>15 children, 8 boys and 7 girls, are enjoying their summer camp together when they suddenly discover a grotto by the sea. When they enter the mysterious place they find a room full of computers, as well as a man named Kokopelli, who introduces himself as the owner. He claims to be working on a game which involves a giant robot that has been designed to protect the Earth from 15 different alien invasions. Kokopelli hasn't been able to test the game yet, so he persuades all but one of the children to sign a contract in what he claims will be a fun adventure. However, as soon as the contracts are signed things start to take a much darker turn. In Bokurano , the children must now pilot the giant robot Zearth one at a time in the hopes that they will have what it takes to defeat all of the upcoming enemies. But Kokopelli has left out one very important piece of information: the giant robot Zearth's energy source.</td>\n",
       "    </tr>\n",
       "    <tr>\n",
       "      <th>6</th>\n",
       "      <td>Sorcerer on the Rocks</td>\n",
       "      <td>0.306628</td>\n",
       "      <td>Action, Comedy, Ecchi, Fantasy, Supernatural</td>\n",
       "      <td>uthless sorcerer Chivas Scotch is hired by a count named Cuttlefish to destroy an evil monster attacking a nearby village. But things go awry when Chivas fails to destroy the monster and he's forced to transfer his spirit in the body of his beautiful servant Gin Fizz. (Source: ANN)</td>\n",
       "    </tr>\n",
       "    <tr>\n",
       "      <th>5</th>\n",
       "      <td>Hengen Taima Yakou Karura Mau! Sendai Kokeshi Enka</td>\n",
       "      <td>0.299502</td>\n",
       "      <td>Horror, Shoujo</td>\n",
       "      <td>Shoko and Maiko Ougi are apparently two ordinary schoolgirls in pursuit of graduating and having fun. Shii-chan is the more serious while Mai-chan is more fun-loving. In reality, the two sisters are powerful exorcists from the Karura temple. Each wields half the power... Shii-chan can \"see\" the spirits, and Mai-chan can banish them. This is a spooky series with heavy emphasis on traditionally Japanese occult themes. (Source: AnimeNfo)</td>\n",
       "    </tr>\n",
       "    <tr>\n",
       "      <th>4</th>\n",
       "      <td>Yume kara, Samenai</td>\n",
       "      <td>0.291600</td>\n",
       "      <td>Romance, School</td>\n",
       "      <td>Student Takao is inexorably drawn toward Sao despite class rumors that she has appeared in a porno movie. (Source: AniDB)</td>\n",
       "    </tr>\n",
       "    <tr>\n",
       "      <th>3</th>\n",
       "      <td>Sore Ike! Anpanman: Gomira no Hoshi</td>\n",
       "      <td>0.291507</td>\n",
       "      <td>Comedy, Kids, Fantasy</td>\n",
       "      <td>No synopsis information has been added to this title. Help improve our database by adding a synopsis here .</td>\n",
       "    </tr>\n",
       "    <tr>\n",
       "      <th>2</th>\n",
       "      <td>Run Melos</td>\n",
       "      <td>0.291039</td>\n",
       "      <td>Historical, Drama</td>\n",
       "      <td>los, a Greek country man gets arrested accused of conspiracy against the king. The king gives him three days to travel to his sister's wedding while Selinentius the sculptor and friend of Melos stays as a hostage. Will he get back in time before the king executes Selinentius instead of him?</td>\n",
       "    </tr>\n",
       "    <tr>\n",
       "      <th>1</th>\n",
       "      <td>ClassicaLoid</td>\n",
       "      <td>0.290966</td>\n",
       "      <td>Comedy, Music</td>\n",
       "      <td>Ever since her father used up the last of the family fortune and skipped town, Kanae Otowa has lived in her family's ancestral mansion, Otowakan. With no way to pay off her father's debts, Otowakan is being foreclosed and Kanae must oust the remaining residents—her friend Sousuke Kagura, and two strange people who claim to be her father's acquaintances, Wolfgang Amadeus Mozart and Ludwig van Beethoven. After somehow being resurrected, Mozart and Beethoven have started going by \"Motes\" and \"Beethes\" respectively, and begun to indulge in a variety of idiotic, non-musical pursuits. While stubbornly refusing to leave Otowakan, Beethes unlocks the hidden power of Musik, saving Otowakan from demolition and delaying his eviction. With this discovery, other Musik users are drawn to Otowakan, including Frédéric Chopin, Franz Liszt, and Franz Schubert. However, not all Musik users have innocent desires. Across the city, the enigmatic Johann Sebastian Bach sits atop a tall building, plotting how to use his Musik.</td>\n",
       "    </tr>\n",
       "    <tr>\n",
       "      <th>0</th>\n",
       "      <td>Onmyou Hyakki Monogatari</td>\n",
       "      <td>0.288142</td>\n",
       "      <td>Historical, Demons, Supernatural</td>\n",
       "      <td>In a time when demons and humans coexisted... Evil spirits from the underworld have begun a quest for power, strength, and dominance. The balance between the two worlds is now in jeopardy. Fortunately, there's a group of gifted humans who can read the stars and draw amulets. They have the power to connect the two worlds, and even tame the spirits. They are willing to lay everything on the line to maintain peace and order between the two worlds. They are known as Onmyouji. (Source: NetEase, edited)</td>\n",
       "    </tr>\n",
       "  </tbody>\n",
       "</table>\n",
       "</div>"
      ],
      "text/plain": [
       "                                                 name  similarity  \\\n",
       "9                        Mahoromatic End Year Special    0.360323   \n",
       "8                               Tenchi Muyo! Ryo-Ohki    0.337389   \n",
       "7                                            Bokurano    0.327979   \n",
       "6                               Sorcerer on the Rocks    0.306628   \n",
       "5  Hengen Taima Yakou Karura Mau! Sendai Kokeshi Enka    0.299502   \n",
       "4                                  Yume kara, Samenai    0.291600   \n",
       "3                 Sore Ike! Anpanman: Gomira no Hoshi    0.291507   \n",
       "2                                           Run Melos    0.291039   \n",
       "1                                        ClassicaLoid    0.290966   \n",
       "0                            Onmyou Hyakki Monogatari    0.288142   \n",
       "\n",
       "                                           genre  \\\n",
       "9       Ecchi, Romance, Comedy, Military, Sci-Fi   \n",
       "8  Action, Comedy, Harem, Sci-Fi, Shounen, Space   \n",
       "7    Sci-Fi, Psychological, Drama, Mecha, Seinen   \n",
       "6   Action, Comedy, Ecchi, Fantasy, Supernatural   \n",
       "5                                 Horror, Shoujo   \n",
       "4                                Romance, School   \n",
       "3                          Comedy, Kids, Fantasy   \n",
       "2                              Historical, Drama   \n",
       "1                                  Comedy, Music   \n",
       "0               Historical, Demons, Supernatural   \n",
       "\n",
       "                                                                                                                                                                                                                                                                                                                                                                                                                                                                                                                                                                                                                                                                                                                                                                                                                                                                                                                                                                                                                                                   sypnopsis  \n",
       "9                                                                                                                                                                                                                                                                                                                                                                                                                                                                                                                                                                                                                                                                                                                                                                                                                                                                                                                                                                                                                                               cap episode.  \n",
       "8                                                                                                                                                                                                                                                                                                                                                                                                                                              hile the galaxy remains at peace, Tenchi Masaki continues to live on Earth with Ryouko and Washuu Hakubi, Aeka and Sasami Jurai Masaki, Mihoshi Kuramitsu, and the cat-like creature Ryo-Ohki. Though it sounds great to be surrounded by so many women, they always end up making things difficult for Tenchi by constantly fighting for his attention, and their attempts at household chores always end in disaster. Although life has become more chaotic since they moved in, Tenchi begins to form a strong bond with his roommates and gains more insight into their respective struggles and history.  \n",
       "7                                                                                                  15 children, 8 boys and 7 girls, are enjoying their summer camp together when they suddenly discover a grotto by the sea. When they enter the mysterious place they find a room full of computers, as well as a man named Kokopelli, who introduces himself as the owner. He claims to be working on a game which involves a giant robot that has been designed to protect the Earth from 15 different alien invasions. Kokopelli hasn't been able to test the game yet, so he persuades all but one of the children to sign a contract in what he claims will be a fun adventure. However, as soon as the contracts are signed things start to take a much darker turn. In Bokurano , the children must now pilot the giant robot Zearth one at a time in the hopes that they will have what it takes to defeat all of the upcoming enemies. But Kokopelli has left out one very important piece of information: the giant robot Zearth's energy source.  \n",
       "6                                                                                                                                                                                                                                                                                                                                                                                                                                                                                                                                                                                                                                                                                                                                                                 uthless sorcerer Chivas Scotch is hired by a count named Cuttlefish to destroy an evil monster attacking a nearby village. But things go awry when Chivas fails to destroy the monster and he's forced to transfer his spirit in the body of his beautiful servant Gin Fizz. (Source: ANN)  \n",
       "5                                                                                                                                                                                                                                                                                                                                                                                                                                                                                                                                                                                                     Shoko and Maiko Ougi are apparently two ordinary schoolgirls in pursuit of graduating and having fun. Shii-chan is the more serious while Mai-chan is more fun-loving. In reality, the two sisters are powerful exorcists from the Karura temple. Each wields half the power... Shii-chan can \"see\" the spirits, and Mai-chan can banish them. This is a spooky series with heavy emphasis on traditionally Japanese occult themes. (Source: AnimeNfo)  \n",
       "4                                                                                                                                                                                                                                                                                                                                                                                                                                                                                                                                                                                                                                                                                                                                                                                                                                                                                                                                  Student Takao is inexorably drawn toward Sao despite class rumors that she has appeared in a porno movie. (Source: AniDB)  \n",
       "3                                                                                                                                                                                                                                                                                                                                                                                                                                                                                                                                                                                                                                                                                                                                                                                                                                                                                                                                                No synopsis information has been added to this title. Help improve our database by adding a synopsis here .  \n",
       "2                                                                                                                                                                                                                                                                                                                                                                                                                                                                                                                                                                                                                                                                                                                                                        los, a Greek country man gets arrested accused of conspiracy against the king. The king gives him three days to travel to his sister's wedding while Selinentius the sculptor and friend of Melos stays as a hostage. Will he get back in time before the king executes Selinentius instead of him?  \n",
       "1  Ever since her father used up the last of the family fortune and skipped town, Kanae Otowa has lived in her family's ancestral mansion, Otowakan. With no way to pay off her father's debts, Otowakan is being foreclosed and Kanae must oust the remaining residents—her friend Sousuke Kagura, and two strange people who claim to be her father's acquaintances, Wolfgang Amadeus Mozart and Ludwig van Beethoven. After somehow being resurrected, Mozart and Beethoven have started going by \"Motes\" and \"Beethes\" respectively, and begun to indulge in a variety of idiotic, non-musical pursuits. While stubbornly refusing to leave Otowakan, Beethes unlocks the hidden power of Musik, saving Otowakan from demolition and delaying his eviction. With this discovery, other Musik users are drawn to Otowakan, including Frédéric Chopin, Franz Liszt, and Franz Schubert. However, not all Musik users have innocent desires. Across the city, the enigmatic Johann Sebastian Bach sits atop a tall building, plotting how to use his Musik.  \n",
       "0                                                                                                                                                                                                                                                                                                                                                                                                                                                                                                                                     In a time when demons and humans coexisted... Evil spirits from the underworld have begun a quest for power, strength, and dominance. The balance between the two worlds is now in jeopardy. Fortunately, there's a group of gifted humans who can read the stars and draw amulets. They have the power to connect the two worlds, and even tame the spirits. They are willing to lay everything on the line to maintain peace and order between the two worlds. They are known as Onmyouji. (Source: NetEase, edited)  "
      ]
     },
     "execution_count": 160,
     "metadata": {},
     "output_type": "execute_result"
    }
   ],
   "source": [
    "find_similar_animes('Sword Art Online', n=10, neg=False)"
   ]
  },
  {
   "cell_type": "code",
   "execution_count": 161,
   "metadata": {},
   "outputs": [
    {
     "name": "stdout",
     "output_type": "stream",
     "text": [
      "animes closest to Black Clover\n"
     ]
    },
    {
     "data": {
      "text/html": [
       "<div>\n",
       "<style scoped>\n",
       "    .dataframe tbody tr th:only-of-type {\n",
       "        vertical-align: middle;\n",
       "    }\n",
       "\n",
       "    .dataframe tbody tr th {\n",
       "        vertical-align: top;\n",
       "    }\n",
       "\n",
       "    .dataframe thead th {\n",
       "        text-align: right;\n",
       "    }\n",
       "</style>\n",
       "<table border=\"1\" class=\"dataframe\">\n",
       "  <thead>\n",
       "    <tr style=\"text-align: right;\">\n",
       "      <th></th>\n",
       "      <th>name</th>\n",
       "      <th>similarity</th>\n",
       "      <th>genre</th>\n",
       "      <th>sypnopsis</th>\n",
       "    </tr>\n",
       "  </thead>\n",
       "  <tbody>\n",
       "    <tr>\n",
       "      <th>9</th>\n",
       "      <td>Lupin the Third, The Woman Called Fujiko Mine</td>\n",
       "      <td>0.331964</td>\n",
       "      <td>Action, Adventure, Comedy, Ecchi, Samurai, Seinen</td>\n",
       "      <td>any people are falling prey to a suspicious new religion. Lupin III infiltrates this group, hoping to steal the treasure their leader keeps hidden. There he lays eyes on the beautiful, bewitching woman who has the leader enthralled. This is the story of how fashionable female thief Fujiko Mine first met Lupin III, the greatest thief of his generation. (Source: ANN)</td>\n",
       "    </tr>\n",
       "    <tr>\n",
       "      <th>8</th>\n",
       "      <td>Genius Party Beyond</td>\n",
       "      <td>0.326923</td>\n",
       "      <td>Sci-Fi, Music, Dementia, Fantasy</td>\n",
       "      <td>Containing shorts that couldn't be included in the original, Genius Party Beyond weaves stories that are both deep and insightful: the idea all life is relative in size, the consequences of an oppressive government, and how to deal with your darker desires, among others. From the directors and artists of works such as Samurai Champloo , Neon Genesis Evangelion , and Akira , come a multitude of thought-provoking tales, to create a collection equalling the original in storytelling genius.</td>\n",
       "    </tr>\n",
       "    <tr>\n",
       "      <th>7</th>\n",
       "      <td>Yume wo Misete</td>\n",
       "      <td>0.323773</td>\n",
       "      <td>Music</td>\n",
       "      <td>usic video by Kousuke Sugimoto for the song Yume wo Misete by Yuuyake Shiwasu.</td>\n",
       "    </tr>\n",
       "    <tr>\n",
       "      <th>6</th>\n",
       "      <td>Season's Greetings from dwarf</td>\n",
       "      <td>0.303679</td>\n",
       "      <td>Kids</td>\n",
       "      <td>Shorts celebrating the new 2017 and 2019 year and holidays, released by the animation studio dwarf.</td>\n",
       "    </tr>\n",
       "    <tr>\n",
       "      <th>5</th>\n",
       "      <td>Clannad:Another World, Tomoyo Chapter</td>\n",
       "      <td>0.300685</td>\n",
       "      <td>Drama, Romance, School, Slice of Life</td>\n",
       "      <td>Clannad: Mou Hitotsu no Sekai, Tomoyo-hen is set in an alternate reality where Tomoya Okazaki dates his junior, Tomoyo Sakagami. Tomoyo has been elected to be the school's next Student Council President. This is great news as she can now work toward her goal of preventing the school's cherry blossom trees from being axed. Although Tomoya is ecstatic for her, given his reputation as a delinquent in school, his relationship with Tomoyo is making them the subject of gossip around the campus, which can potentially compromise her standing as Student Council President. The school community's disapproval of their relationship becomes more apparent when the Student Council's Vice-President and even the school's administration warn Tomoya to distance himself from Tomoyo. With the bad atmosphere widening the rift between Tomoya and Tomoyo, will Tomoya succumb to societal pressure and do as they say, or will their love for each other rise above it all?</td>\n",
       "    </tr>\n",
       "    <tr>\n",
       "      <th>4</th>\n",
       "      <td>Kekkero Ke</td>\n",
       "      <td>0.300299</td>\n",
       "      <td>Comedy</td>\n",
       "      <td>The anime follows the frogs Kekkero and Ke who try to find their 998 other siblings. (Source: ANN)</td>\n",
       "    </tr>\n",
       "    <tr>\n",
       "      <th>3</th>\n",
       "      <td>Black Jack:Capital Transfer To Heian</td>\n",
       "      <td>0.295694</td>\n",
       "      <td>Shounen</td>\n",
       "      <td>These original short animated films are shown in the \"300 Inch Theater\" at the Tezuka Osamu World in the Kyoto Station Bldg, as well as a two-picture show including animated films from among Tezuka Osamu's major Manga, and one focuses on historic episodes of Kyoto. In this theatre, the Phoenix plays the role of storyteller, introducing two films. The Phoenix chooses a story entitled \"Old Woman\" (\"Oba-chan\") from numerous episodes of \"Black Jack\" to discuss the theme of how much love can grow in this short lifetime. In the story, there is a seemingly greedy old woman who is always asking her daughter-in-law for money, and her son and his wife become fed up with the old woman's behaviour. Naturally, there are constant quarrels in the family, and their quiet ordinary life seems to have been lost. After accidentally coming to know the family, Black Jack learns that the old woman had her young son, who was dying at the time, treated and saved by a noted doctor who claimed a great amount of money. She has, in fact, been paying for the treatment over some tens of years. Because of her great love for her son, the old woman devoted her entire life to paying for the treatment. Not aware of his mother's act, the son feels helplessly hammered and squeezed by his mother and his wife. But when he finally comes to know the truth, he is deeply impressed with the love of his mother, who valued her son's life more than her own. Black Jack asks him if he could love her just as much as she loved him. Explaining that only love valued more highly than life can live forever, the Phoenix then tells a story about the move of the capital to Heian, which was a great national project and an attempt to infuse a city with eternal life. (Source: official site)</td>\n",
       "    </tr>\n",
       "    <tr>\n",
       "      <th>2</th>\n",
       "      <td>Christmas</td>\n",
       "      <td>0.293596</td>\n",
       "      <td>Music, Supernatural</td>\n",
       "      <td>girl creates a talisman and makes a wish for good weather on Christmas day. A fantastical and destructive event plays out that brings more than good weather. The song done by the band \"amazarashi\" as a part of their ワンルーム叙事詩/Epic Studio album. (Source: AniDB)</td>\n",
       "    </tr>\n",
       "    <tr>\n",
       "      <th>1</th>\n",
       "      <td>Aitsu to Lullaby: Suiyobi no Cinderella</td>\n",
       "      <td>0.287285</td>\n",
       "      <td>Romance, Drama, Shounen</td>\n",
       "      <td>Based on a shounen manga by Kusunoki Michiharu serialised in Weekly Shounen Magazine.</td>\n",
       "    </tr>\n",
       "    <tr>\n",
       "      <th>0</th>\n",
       "      <td>Ouran High School Host Club</td>\n",
       "      <td>0.284223</td>\n",
       "      <td>Comedy, Harem, Romance, School, Shoujo</td>\n",
       "      <td>Haruhi Fujioka is a bright scholarship candidate with no rank or title to speak of—a rare species at Ouran Academy, an elite school for students of high pedigree. When she opens the door to Music Room #3 hoping to find a quiet place to study, Haruhi unexpectedly stumbles upon the Host Club. Led by the princely Tamaki Suou, the club—whose other members include the \"Shadow King\" Kyouya Ootori; the mischievous Hitachiin twins, Kaoru and Hikaru; the childlike Mitsukuni Haninozuka, also known as \"Honey\"; and his strong protector Takashi \"Mori\" Morinozuka—is where handsome boys with too much time on their hands entertain the girls in the academy. In a frantic attempt to remove herself from the hosts, Haruhi ends up breaking a vase worth eight million yen and is forced into becoming the eccentric group's general errand boy to repay her enormous debt. However, thanks to her convincingly masculine appearance, her naturally genial disposition toward girls, and fascinating commoner status, she is soon promoted to full-time male host. And before long, Haruhi is plunged into a glitzy whirlwind of elaborate cosplays, rich food, and exciting shenanigans that only the immensely wealthy Host Club can pull off.</td>\n",
       "    </tr>\n",
       "  </tbody>\n",
       "</table>\n",
       "</div>"
      ],
      "text/plain": [
       "                                            name  similarity  \\\n",
       "9  Lupin the Third, The Woman Called Fujiko Mine    0.331964   \n",
       "8                            Genius Party Beyond    0.326923   \n",
       "7                                 Yume wo Misete    0.323773   \n",
       "6                  Season's Greetings from dwarf    0.303679   \n",
       "5          Clannad:Another World, Tomoyo Chapter    0.300685   \n",
       "4                                     Kekkero Ke    0.300299   \n",
       "3           Black Jack:Capital Transfer To Heian    0.295694   \n",
       "2                                      Christmas    0.293596   \n",
       "1        Aitsu to Lullaby: Suiyobi no Cinderella    0.287285   \n",
       "0                    Ouran High School Host Club    0.284223   \n",
       "\n",
       "                                               genre  \\\n",
       "9  Action, Adventure, Comedy, Ecchi, Samurai, Seinen   \n",
       "8                   Sci-Fi, Music, Dementia, Fantasy   \n",
       "7                                              Music   \n",
       "6                                               Kids   \n",
       "5              Drama, Romance, School, Slice of Life   \n",
       "4                                             Comedy   \n",
       "3                                            Shounen   \n",
       "2                                Music, Supernatural   \n",
       "1                            Romance, Drama, Shounen   \n",
       "0             Comedy, Harem, Romance, School, Shoujo   \n",
       "\n",
       "                                                                                                                                                                                                                                                                                                                                                                                                                                                                                                                                                                                                                                                                                                                                                                                                                                                                                                                                                                                                                                                                                                                                                                                                                                                                                                                                                                                                                                                                                                                                                                                                                                                                                                                                                                                                                         sypnopsis  \n",
       "9                                                                                                                                                                                                                                                                                                                                                                                                                                                                                                                                                                                                                                                                                                                                                                                                                                                                                                                                                                                                                                                                                                                                                                                                                                                                                                                                                                                                                                                  any people are falling prey to a suspicious new religion. Lupin III infiltrates this group, hoping to steal the treasure their leader keeps hidden. There he lays eyes on the beautiful, bewitching woman who has the leader enthralled. This is the story of how fashionable female thief Fujiko Mine first met Lupin III, the greatest thief of his generation. (Source: ANN)  \n",
       "8                                                                                                                                                                                                                                                                                                                                                                                                                                                                                                                                                                                                                                                                                                                                                                                                                                                                                                                                                                                                                                                                                                                                                                                                                                                                                                                      Containing shorts that couldn't be included in the original, Genius Party Beyond weaves stories that are both deep and insightful: the idea all life is relative in size, the consequences of an oppressive government, and how to deal with your darker desires, among others. From the directors and artists of works such as Samurai Champloo , Neon Genesis Evangelion , and Akira , come a multitude of thought-provoking tales, to create a collection equalling the original in storytelling genius.  \n",
       "7                                                                                                                                                                                                                                                                                                                                                                                                                                                                                                                                                                                                                                                                                                                                                                                                                                                                                                                                                                                                                                                                                                                                                                                                                                                                                                                                                                                                                                                                                                                                                                                                                                                                                                                                                   usic video by Kousuke Sugimoto for the song Yume wo Misete by Yuuyake Shiwasu.  \n",
       "6                                                                                                                                                                                                                                                                                                                                                                                                                                                                                                                                                                                                                                                                                                                                                                                                                                                                                                                                                                                                                                                                                                                                                                                                                                                                                                                                                                                                                                                                                                                                                                                                                                                                                                                              Shorts celebrating the new 2017 and 2019 year and holidays, released by the animation studio dwarf.  \n",
       "5                                                                                                                                                                                                                                                                                                                                                                                                                                                                                                                                                                                                                                                                                                                                                                                                                                      Clannad: Mou Hitotsu no Sekai, Tomoyo-hen is set in an alternate reality where Tomoya Okazaki dates his junior, Tomoyo Sakagami. Tomoyo has been elected to be the school's next Student Council President. This is great news as she can now work toward her goal of preventing the school's cherry blossom trees from being axed. Although Tomoya is ecstatic for her, given his reputation as a delinquent in school, his relationship with Tomoyo is making them the subject of gossip around the campus, which can potentially compromise her standing as Student Council President. The school community's disapproval of their relationship becomes more apparent when the Student Council's Vice-President and even the school's administration warn Tomoya to distance himself from Tomoyo. With the bad atmosphere widening the rift between Tomoya and Tomoyo, will Tomoya succumb to societal pressure and do as they say, or will their love for each other rise above it all?  \n",
       "4                                                                                                                                                                                                                                                                                                                                                                                                                                                                                                                                                                                                                                                                                                                                                                                                                                                                                                                                                                                                                                                                                                                                                                                                                                                                                                                                                                                                                                                                                                                                                                                                                                                                                                                               The anime follows the frogs Kekkero and Ke who try to find their 998 other siblings. (Source: ANN)  \n",
       "3  These original short animated films are shown in the \"300 Inch Theater\" at the Tezuka Osamu World in the Kyoto Station Bldg, as well as a two-picture show including animated films from among Tezuka Osamu's major Manga, and one focuses on historic episodes of Kyoto. In this theatre, the Phoenix plays the role of storyteller, introducing two films. The Phoenix chooses a story entitled \"Old Woman\" (\"Oba-chan\") from numerous episodes of \"Black Jack\" to discuss the theme of how much love can grow in this short lifetime. In the story, there is a seemingly greedy old woman who is always asking her daughter-in-law for money, and her son and his wife become fed up with the old woman's behaviour. Naturally, there are constant quarrels in the family, and their quiet ordinary life seems to have been lost. After accidentally coming to know the family, Black Jack learns that the old woman had her young son, who was dying at the time, treated and saved by a noted doctor who claimed a great amount of money. She has, in fact, been paying for the treatment over some tens of years. Because of her great love for her son, the old woman devoted her entire life to paying for the treatment. Not aware of his mother's act, the son feels helplessly hammered and squeezed by his mother and his wife. But when he finally comes to know the truth, he is deeply impressed with the love of his mother, who valued her son's life more than her own. Black Jack asks him if he could love her just as much as she loved him. Explaining that only love valued more highly than life can live forever, the Phoenix then tells a story about the move of the capital to Heian, which was a great national project and an attempt to infuse a city with eternal life. (Source: official site)  \n",
       "2                                                                                                                                                                                                                                                                                                                                                                                                                                                                                                                                                                                                                                                                                                                                                                                                                                                                                                                                                                                                                                                                                                                                                                                                                                                                                                                                                                                                                                                                                                                                                              girl creates a talisman and makes a wish for good weather on Christmas day. A fantastical and destructive event plays out that brings more than good weather. The song done by the band \"amazarashi\" as a part of their ワンルーム叙事詩/Epic Studio album. (Source: AniDB)  \n",
       "1                                                                                                                                                                                                                                                                                                                                                                                                                                                                                                                                                                                                                                                                                                                                                                                                                                                                                                                                                                                                                                                                                                                                                                                                                                                                                                                                                                                                                                                                                                                                                                                                                                                                                                                                            Based on a shounen manga by Kusunoki Michiharu serialised in Weekly Shounen Magazine.  \n",
       "0                                                                                                                                                                                                                                                                                                                                                                                                                                                                                                                                                                     Haruhi Fujioka is a bright scholarship candidate with no rank or title to speak of—a rare species at Ouran Academy, an elite school for students of high pedigree. When she opens the door to Music Room #3 hoping to find a quiet place to study, Haruhi unexpectedly stumbles upon the Host Club. Led by the princely Tamaki Suou, the club—whose other members include the \"Shadow King\" Kyouya Ootori; the mischievous Hitachiin twins, Kaoru and Hikaru; the childlike Mitsukuni Haninozuka, also known as \"Honey\"; and his strong protector Takashi \"Mori\" Morinozuka—is where handsome boys with too much time on their hands entertain the girls in the academy. In a frantic attempt to remove herself from the hosts, Haruhi ends up breaking a vase worth eight million yen and is forced into becoming the eccentric group's general errand boy to repay her enormous debt. However, thanks to her convincingly masculine appearance, her naturally genial disposition toward girls, and fascinating commoner status, she is soon promoted to full-time male host. And before long, Haruhi is plunged into a glitzy whirlwind of elaborate cosplays, rich food, and exciting shenanigans that only the immensely wealthy Host Club can pull off.  "
      ]
     },
     "execution_count": 161,
     "metadata": {},
     "output_type": "execute_result"
    }
   ],
   "source": [
    "find_similar_animes('Black Clover', n=10, neg=False)"
   ]
  },
  {
   "cell_type": "code",
   "execution_count": null,
   "metadata": {},
   "outputs": [],
   "source": []
  },
  {
   "cell_type": "code",
   "execution_count": null,
   "metadata": {},
   "outputs": [],
   "source": []
  },
  {
   "cell_type": "code",
   "execution_count": null,
   "metadata": {},
   "outputs": [],
   "source": []
  }
 ],
 "metadata": {
  "kernelspec": {
   "display_name": "Python 3",
   "language": "python",
   "name": "python3"
  },
  "language_info": {
   "codemirror_mode": {
    "name": "ipython",
    "version": 3
   },
   "file_extension": ".py",
   "mimetype": "text/x-python",
   "name": "python",
   "nbconvert_exporter": "python",
   "pygments_lexer": "ipython3",
   "version": "3.6.9"
  }
 },
 "nbformat": 4,
 "nbformat_minor": 4
}
